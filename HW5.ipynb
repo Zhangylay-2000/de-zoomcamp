{
 "cells": [
  {
   "cell_type": "code",
   "execution_count": 32,
   "id": "25adb3c9-07de-4687-bd02-3fbe50a913ec",
   "metadata": {},
   "outputs": [],
   "source": [
    "import pyspark"
   ]
  },
  {
   "cell_type": "code",
   "execution_count": 33,
   "id": "330fc8e9-c8d0-42f5-b088-259415a40782",
   "metadata": {},
   "outputs": [],
   "source": [
    "from pyspark.sql import SparkSession"
   ]
  },
  {
   "cell_type": "code",
   "execution_count": 34,
   "id": "630086ad-2168-4a2b-8135-ea9584af6520",
   "metadata": {},
   "outputs": [],
   "source": [
    "spark = SparkSession.builder \\\n",
    "    .master(\"local[*]\") \\\n",
    "    .appName('test') \\\n",
    "    .getOrCreate()"
   ]
  },
  {
   "cell_type": "code",
   "execution_count": 35,
   "id": "a79cc4d6-7d39-40c1-957b-a33ed936472c",
   "metadata": {},
   "outputs": [
    {
     "name": "stdout",
     "output_type": "stream",
     "text": [
      "Spark Version : 3.5.1\n"
     ]
    }
   ],
   "source": [
    "print(f'Spark Version : {spark.version}')"
   ]
  },
  {
   "cell_type": "code",
   "execution_count": 36,
   "id": "486869de-67ea-41a9-a968-015fba770589",
   "metadata": {},
   "outputs": [],
   "source": [
    "df = spark.read \\\n",
    "    .option(\"header\", \"true\") \\\n",
    "    .csv('fhv_tripdata_2019-10.csv')"
   ]
  },
  {
   "cell_type": "code",
   "execution_count": 37,
   "id": "6e6a6613-2a7f-4bd1-b4f4-43e8d6f3d86b",
   "metadata": {},
   "outputs": [
    {
     "data": {
      "text/plain": [
       "StructType([StructField('dispatching_base_num', StringType(), True), StructField('pickup_datetime', StringType(), True), StructField('dropOff_datetime', StringType(), True), StructField('PUlocationID', StringType(), True), StructField('DOlocationID', StringType(), True), StructField('SR_Flag', StringType(), True), StructField('Affiliated_base_number', StringType(), True)])"
      ]
     },
     "execution_count": 37,
     "metadata": {},
     "output_type": "execute_result"
    }
   ],
   "source": [
    "df.schema"
   ]
  },
  {
   "cell_type": "code",
   "execution_count": 38,
   "id": "8f7f4019-cfe1-4a7b-b72a-7e0209bb2e45",
   "metadata": {},
   "outputs": [],
   "source": [
    "import pandas as pd"
   ]
  },
  {
   "cell_type": "code",
   "execution_count": 39,
   "id": "10dc52a4-1d87-4648-a94f-6fd90386446b",
   "metadata": {},
   "outputs": [],
   "source": [
    "df_pandas = pd.read_csv('fhv_tripdata_2019-10.csv',nrows=1001) "
   ]
  },
  {
   "cell_type": "code",
   "execution_count": 40,
   "id": "f9c93ba5-da94-4265-a0b8-18d6dcc4dd11",
   "metadata": {},
   "outputs": [
    {
     "data": {
      "text/plain": [
       "dispatching_base_num       object\n",
       "pickup_datetime            object\n",
       "dropOff_datetime           object\n",
       "PUlocationID              float64\n",
       "DOlocationID              float64\n",
       "SR_Flag                   float64\n",
       "Affiliated_base_number     object\n",
       "dtype: object"
      ]
     },
     "execution_count": 40,
     "metadata": {},
     "output_type": "execute_result"
    }
   ],
   "source": [
    "df_pandas.dtypes"
   ]
  },
  {
   "cell_type": "code",
   "execution_count": 41,
   "id": "9223f315-85d4-4b9f-a1d2-518dc5734c26",
   "metadata": {},
   "outputs": [],
   "source": [
    "from pyspark.sql import types\n",
    "from pyspark.sql.functions import *"
   ]
  },
  {
   "cell_type": "code",
   "execution_count": 42,
   "id": "9a83f10b-b0f4-43b9-bca0-9396e4487639",
   "metadata": {},
   "outputs": [],
   "source": [
    "schema = types.StructType([\n",
    "    types.StructField('dispatching_base_num', types.StringType(), True),\n",
    "    types.StructField('pickup_datetime', types.TimestampType(), True),\n",
    "    types.StructField('dropoff_datetime', types.TimestampType(), True),\n",
    "    types.StructField('PULocationID', types.IntegerType(), True),\n",
    "    types.StructField('DOLocationID', types.IntegerType(), True),\n",
    "    types.StructField('SR_Flag', types.StringType(), True),\n",
    "    types.StructField('Affiliated_base_number', types.StringType(), True),\n",
    "])"
   ]
  },
  {
   "cell_type": "code",
   "execution_count": 43,
   "id": "2405e1ad-504b-4180-bdc6-6b742179cd52",
   "metadata": {},
   "outputs": [],
   "source": [
    "df = spark.read \\\n",
    "    .option(\"header\", \"true\") \\\n",
    "    .schema(schema) \\\n",
    "    .csv('fhv_tripdata_2019-10.csv')"
   ]
  },
  {
   "cell_type": "code",
   "execution_count": 44,
   "id": "0de28b97-1429-418e-afd7-229520198fcd",
   "metadata": {},
   "outputs": [],
   "source": [
    "df = df.repartition(6)"
   ]
  },
  {
   "cell_type": "code",
   "execution_count": 45,
   "id": "646ea9bf-87c6-4744-af61-1c568b8d6ece",
   "metadata": {},
   "outputs": [],
   "source": [
    "df.write.mode('overwrite').parquet('parquet')"
   ]
  },
  {
   "cell_type": "code",
   "execution_count": 46,
   "id": "d7d7b121-7933-42c7-a095-bf3430f05ff1",
   "metadata": {},
   "outputs": [],
   "source": [
    "df = spark.read.parquet('parquet')"
   ]
  },
  {
   "cell_type": "code",
   "execution_count": 47,
   "id": "93835436-e200-4b28-9f5e-4da03e41933c",
   "metadata": {},
   "outputs": [
    {
     "name": "stdout",
     "output_type": "stream",
     "text": [
      "root\n",
      " |-- dispatching_base_num: string (nullable = true)\n",
      " |-- pickup_datetime: timestamp (nullable = true)\n",
      " |-- dropoff_datetime: timestamp (nullable = true)\n",
      " |-- PULocationID: integer (nullable = true)\n",
      " |-- DOLocationID: integer (nullable = true)\n",
      " |-- SR_Flag: string (nullable = true)\n",
      " |-- Affiliated_base_number: string (nullable = true)\n",
      "\n"
     ]
    }
   ],
   "source": [
    "df.printSchema()"
   ]
  },
  {
   "cell_type": "code",
   "execution_count": 48,
   "id": "fd23b6ae-7e35-41ad-bd67-fa71f8b668de",
   "metadata": {},
   "outputs": [],
   "source": [
    "from pyspark.sql import functions as F"
   ]
  },
  {
   "cell_type": "code",
   "execution_count": 49,
   "id": "e80f8f39-b8a2-4937-b9c0-73000b0e51bd",
   "metadata": {},
   "outputs": [
    {
     "name": "stdout",
     "output_type": "stream",
     "text": [
      "+--------------------+-------------------+-------------------+------------+------------+-------+----------------------+\n",
      "|dispatching_base_num|    pickup_datetime|   dropoff_datetime|PULocationID|DOLocationID|SR_Flag|Affiliated_base_number|\n",
      "+--------------------+-------------------+-------------------+------------+------------+-------+----------------------+\n",
      "|              B02735|2019-10-03 22:35:28|2019-10-03 22:41:01|         264|         259|   NULL|                B02682|\n",
      "|              B01145|2019-10-01 10:55:00|2019-10-01 10:58:18|         264|         174|   NULL|                B02864|\n",
      "|              B02569|2019-10-04 07:01:37|2019-10-04 07:37:50|         193|         100|   NULL|                B02759|\n",
      "|              B00727|2019-10-02 14:10:31|2019-10-02 14:22:31|         264|         264|   NULL|                B00727|\n",
      "|              B00628|2019-10-03 01:28:47|2019-10-03 02:02:31|         261|         191|   NULL|                B00628|\n",
      "|              B01051|2019-10-01 11:52:26|2019-10-01 12:04:22|         264|         168|   NULL|                B01051|\n",
      "|              B02531|2019-10-04 07:00:00|2019-10-04 08:00:00|           9|          92|   NULL|                B02531|\n",
      "|              B00821|2019-10-01 14:55:33|2019-10-01 15:03:35|         264|         258|   NULL|                B00821|\n",
      "|              B00310|2019-10-03 19:24:01|2019-10-03 19:47:57|         264|         213|   NULL|                B02847|\n",
      "|              B03160|2019-10-01 20:09:00|2019-10-01 20:22:00|          72|          76|   NULL|                B02877|\n",
      "|              B01239|2019-10-01 14:35:01|2019-10-01 14:59:38|         264|         147|   NULL|                B02682|\n",
      "|              B01454|2019-10-02 20:25:39|2019-10-02 20:31:03|         264|          35|   NULL|                B01454|\n",
      "|              B01328|2019-10-04 11:03:00|2019-10-04 11:21:00|          20|          78|   NULL|                B02534|\n",
      "|              B01308|2019-10-04 10:51:00|2019-10-04 11:13:00|         264|         264|   NULL|                B01308|\n",
      "|              B01717|2019-10-01 05:04:55|2019-10-01 05:13:50|         264|          74|   NULL|                B01717|\n",
      "|              B00972|2019-10-04 12:38:18|2019-10-04 12:56:02|          44|         109|   NULL|                B00972|\n",
      "|              B01437|2019-10-01 02:30:24|2019-10-01 03:01:08|         264|         121|   NULL|                B03227|\n",
      "|              B00477|2019-10-04 07:48:52|2019-10-04 07:49:00|         237|         236|   NULL|                B00477|\n",
      "|              B02729|2019-10-03 20:40:00|2019-10-03 20:45:37|         264|         264|   NULL|                B02729|\n",
      "|              B02739|2019-10-04 09:22:01|2019-10-04 09:34:42|         264|         198|   NULL|                B02739|\n",
      "+--------------------+-------------------+-------------------+------------+------------+-------+----------------------+\n",
      "only showing top 20 rows\n",
      "\n"
     ]
    }
   ],
   "source": [
    "df.show()"
   ]
  },
  {
   "cell_type": "code",
   "execution_count": 50,
   "id": "29e29371-9105-4eb8-b394-a9a4fde78214",
   "metadata": {},
   "outputs": [
    {
     "name": "stderr",
     "output_type": "stream",
     "text": [
      "C:\\Users\\777\\AppData\\Local\\Programs\\Python\\Python311\\Lib\\site-packages\\pyspark\\sql\\dataframe.py:329: FutureWarning: Deprecated in 2.0, use createOrReplaceTempView instead.\n",
      "  warnings.warn(\"Deprecated in 2.0, use createOrReplaceTempView instead.\", FutureWarning)\n"
     ]
    }
   ],
   "source": [
    "df.registerTempTable('trips_data')"
   ]
  },
  {
   "cell_type": "code",
   "execution_count": 51,
   "id": "33de05e7-029c-4c90-bf04-c2bf2289203c",
   "metadata": {},
   "outputs": [
    {
     "name": "stdout",
     "output_type": "stream",
     "text": [
      "+-----------+\n",
      "|total_trips|\n",
      "+-----------+\n",
      "|      62610|\n",
      "+-----------+\n",
      "\n"
     ]
    }
   ],
   "source": [
    "spark.sql(\"\"\"\n",
    "select count (*) as total_trips\n",
    "from trips_data\n",
    "where pickup_datetime between  '2019-10-15 00:00:00' AND '2019-10-15 23:59:59'\n",
    "\"\"\").show()"
   ]
  },
  {
   "cell_type": "code",
   "execution_count": 52,
   "id": "657121cc-40a0-4a4e-b9d0-8df02320d3fc",
   "metadata": {},
   "outputs": [
    {
     "name": "stdout",
     "output_type": "stream",
     "text": [
      "+--------------------+-------------------+-------------------+------------+------------+-------+----------------------+----------+------------------+\n",
      "|dispatching_base_num|pickup_datetime    |dropoff_datetime   |PULocationID|DOLocationID|SR_Flag|Affiliated_base_number|dif_in_sec|dif_in_hours      |\n",
      "+--------------------+-------------------+-------------------+------------+------------+-------+----------------------+----------+------------------+\n",
      "|B02832              |2019-10-28 09:00:00|2091-10-28 09:30:00|264         |264         |NULL   |B02832                |2272149000|631152.5          |\n",
      "|B02832              |2019-10-11 18:00:00|2091-10-11 18:30:00|264         |264         |NULL   |B02832                |2272149000|631152.5          |\n",
      "|B02416              |2019-10-31 23:46:33|2029-11-01 00:13:00|NULL        |NULL        |NULL   |B02416                |315620787 |87672.44083333333 |\n",
      "|B00746              |2019-10-01 21:43:42|2027-10-01 21:45:23|159         |264         |NULL   |B00746                |252460901 |70128.02805555555 |\n",
      "|B02921              |2019-10-17 14:00:00|2020-10-18 00:00:00|NULL        |NULL        |NULL   |B03037                |31658400  |8794.0            |\n",
      "|B03110              |2019-10-26 21:26:00|2020-10-26 21:36:00|264         |264         |NULL   |B03110                |31626600  |8785.166666666666 |\n",
      "|B03080              |2019-10-30 12:30:04|2019-12-30 13:02:08|264         |50          |NULL   |B02883                |5272324   |1464.5344444444445|\n",
      "|B03084              |2019-10-25 07:04:57|2019-12-08 07:54:33|168         |235         |NULL   |B02765                |3808176   |1057.8266666666666|\n",
      "|B03084              |2019-10-25 07:04:57|2019-12-08 07:21:11|168         |235         |NULL   |B02765                |3806174   |1057.2705555555556|\n",
      "|B01452              |2019-10-01 13:47:17|2019-11-03 15:20:28|44          |214         |NULL   |B01452                |2860391   |794.5530555555556 |\n",
      "|B01452              |2019-10-01 07:21:12|2019-11-03 08:44:21|5           |6           |NULL   |B01452                |2859789   |794.3858333333334 |\n",
      "|B01452              |2019-10-01 13:41:00|2019-11-03 14:58:51|206         |172         |NULL   |B01452                |2859471   |794.2975          |\n",
      "|B01452              |2019-10-01 18:43:20|2019-11-03 19:43:13|23          |5           |NULL   |B01452                |2858393   |793.9980555555555 |\n",
      "|B01452              |2019-10-01 18:43:46|2019-11-03 19:43:04|251         |44          |NULL   |B01452                |2858358   |793.9883333333333 |\n",
      "|B01452              |2019-10-01 07:07:09|2019-11-03 07:58:46|204         |23          |NULL   |B01452                |2857897   |793.8602777777778 |\n",
      "|B01452              |2019-10-01 14:49:28|2019-11-03 15:38:07|214         |156         |NULL   |B01452                |2857719   |793.8108333333333 |\n",
      "|B01452              |2019-10-01 05:36:30|2019-11-03 06:23:36|214         |84          |NULL   |B01452                |2857626   |793.785           |\n",
      "|B00972              |2019-10-01 15:02:55|2019-11-03 15:49:05|204         |1           |NULL   |B00972                |2857570   |793.7694444444444 |\n",
      "|B00972              |2019-10-01 06:08:01|2019-11-03 06:53:15|156         |204         |NULL   |B00972                |2857514   |793.7538888888889 |\n",
      "|B01452              |2019-10-01 06:41:17|2019-11-03 07:26:04|44          |23          |NULL   |B01452                |2857487   |793.7463888888889 |\n",
      "+--------------------+-------------------+-------------------+------------+------------+-------+----------------------+----------+------------------+\n",
      "only showing top 20 rows\n",
      "\n"
     ]
    }
   ],
   "source": [
    "df.withColumn('dif_in_sec',unix_timestamp(\"dropoff_datetime\") - unix_timestamp('pickup_datetime')) \\\n",
    "    .withColumn('dif_in_hours',col('dif_in_sec')/3600) \\\n",
    "    .sort('dif_in_sec',ascending=False) \\\n",
    "    .show(truncate=False)"
   ]
  },
  {
   "cell_type": "code",
   "execution_count": 53,
   "id": "00f60bd7-abd4-480d-a38f-2f41cea04f46",
   "metadata": {},
   "outputs": [],
   "source": [
    "df_zones =spark.read \\\n",
    "    .option(\"header\",\"true\") \\\n",
    "    .csv('taxi+_zone_lookup.csv')"
   ]
  },
  {
   "cell_type": "code",
   "execution_count": 54,
   "id": "1186fa98-46cd-4742-bd0d-550a0b4ec652",
   "metadata": {},
   "outputs": [
    {
     "name": "stdout",
     "output_type": "stream",
     "text": [
      "+----------+-------------+-----------------------+------------+\n",
      "|LocationID|Borough      |Zone                   |service_zone|\n",
      "+----------+-------------+-----------------------+------------+\n",
      "|1         |EWR          |Newark Airport         |EWR         |\n",
      "|2         |Queens       |Jamaica Bay            |Boro Zone   |\n",
      "|3         |Bronx        |Allerton/Pelham Gardens|Boro Zone   |\n",
      "|4         |Manhattan    |Alphabet City          |Yellow Zone |\n",
      "|5         |Staten Island|Arden Heights          |Boro Zone   |\n",
      "|6         |Staten Island|Arrochar/Fort Wadsworth|Boro Zone   |\n",
      "|7         |Queens       |Astoria                |Boro Zone   |\n",
      "|8         |Queens       |Astoria Park           |Boro Zone   |\n",
      "|9         |Queens       |Auburndale             |Boro Zone   |\n",
      "|10        |Queens       |Baisley Park           |Boro Zone   |\n",
      "|11        |Brooklyn     |Bath Beach             |Boro Zone   |\n",
      "|12        |Manhattan    |Battery Park           |Yellow Zone |\n",
      "|13        |Manhattan    |Battery Park City      |Yellow Zone |\n",
      "|14        |Brooklyn     |Bay Ridge              |Boro Zone   |\n",
      "|15        |Queens       |Bay Terrace/Fort Totten|Boro Zone   |\n",
      "|16        |Queens       |Bayside                |Boro Zone   |\n",
      "|17        |Brooklyn     |Bedford                |Boro Zone   |\n",
      "|18        |Bronx        |Bedford Park           |Boro Zone   |\n",
      "|19        |Queens       |Bellerose              |Boro Zone   |\n",
      "|20        |Bronx        |Belmont                |Boro Zone   |\n",
      "+----------+-------------+-----------------------+------------+\n",
      "only showing top 20 rows\n",
      "\n"
     ]
    }
   ],
   "source": [
    "df_zones.show(truncate=False)"
   ]
  },
  {
   "cell_type": "code",
   "execution_count": 55,
   "id": "4146c9b8-751e-4d2b-8d6c-b601704ad5cd",
   "metadata": {},
   "outputs": [],
   "source": [
    "df_zones.createOrReplaceTempView(\"zones\")"
   ]
  },
  {
   "cell_type": "code",
   "execution_count": 56,
   "id": "cd24f08b-3b09-43f6-a29f-a98cfed9ce65",
   "metadata": {},
   "outputs": [
    {
     "name": "stdout",
     "output_type": "stream",
     "text": [
      "+----------+--------------------+-----------+\n",
      "|LocationID|                Zone|total_trips|\n",
      "+----------+--------------------+-----------+\n",
      "|         2|         Jamaica Bay|          1|\n",
      "|       105|Governor's Island...|          2|\n",
      "|       111| Green-Wood Cemetery|          5|\n",
      "|        30|       Broad Channel|          8|\n",
      "|       120|     Highbridge Park|         14|\n",
      "|        12|        Battery Park|         15|\n",
      "|       207|Saint Michaels Ce...|         23|\n",
      "|        27|Breezy Point/Fort...|         25|\n",
      "|       154|Marine Park/Floyd...|         26|\n",
      "|         8|        Astoria Park|         29|\n",
      "|       128|    Inwood Hill Park|         39|\n",
      "|       253|       Willets Point|         47|\n",
      "|        96|Forest Park/Highl...|         53|\n",
      "|        34|  Brooklyn Navy Yard|         57|\n",
      "|        59|        Crotona Park|         62|\n",
      "|        58|        Country Club|         77|\n",
      "|        99|     Freshkills Park|         89|\n",
      "|       190|       Prospect Park|         98|\n",
      "|        54|     Columbia Street|        105|\n",
      "|       217|  South Williamsburg|        110|\n",
      "+----------+--------------------+-----------+\n",
      "only showing top 20 rows\n",
      "\n"
     ]
    }
   ],
   "source": [
    "spark.sql(\"\"\"\n",
    "select \n",
    "    zones.LocationID,\n",
    "    zones.Zone,\n",
    "    count(1) as total_trips\n",
    "    from trips_data\n",
    "    inner join zones\n",
    "    on trips_data.PULocationID = zones.LocationID\n",
    "    group by zones.LocationID,\n",
    "    zones.Zone\n",
    "    order by total_trips\n",
    "    \"\"\"\n",
    ").show()"
   ]
  },
  {
   "cell_type": "code",
   "execution_count": null,
   "id": "e69e7a42-22fd-45dc-8db7-cc8b250da89f",
   "metadata": {},
   "outputs": [],
   "source": []
  },
  {
   "cell_type": "code",
   "execution_count": null,
   "id": "b572f46d-f1ae-425d-a5c5-b4775996f5d4",
   "metadata": {},
   "outputs": [],
   "source": []
  },
  {
   "cell_type": "code",
   "execution_count": null,
   "id": "d733445d-47ce-44c3-931a-c2ee0cc0564e",
   "metadata": {},
   "outputs": [],
   "source": []
  },
  {
   "cell_type": "code",
   "execution_count": null,
   "id": "6f5e991d-221c-473a-ad0b-511a8c4134c1",
   "metadata": {},
   "outputs": [],
   "source": []
  },
  {
   "cell_type": "code",
   "execution_count": null,
   "id": "e4736de3-4480-4db4-b542-f1aa842bdc1d",
   "metadata": {},
   "outputs": [],
   "source": []
  },
  {
   "cell_type": "code",
   "execution_count": null,
   "id": "df5f8364-a802-47d5-bb6e-ab1e9e44dbc3",
   "metadata": {},
   "outputs": [],
   "source": []
  },
  {
   "cell_type": "code",
   "execution_count": null,
   "id": "6d41f72d-542d-4a2a-b241-fa7d0d51ea5e",
   "metadata": {},
   "outputs": [],
   "source": []
  },
  {
   "cell_type": "code",
   "execution_count": null,
   "id": "a4b61b44-54c1-4afd-bd54-ec3670608e4e",
   "metadata": {},
   "outputs": [],
   "source": []
  }
 ],
 "metadata": {
  "kernelspec": {
   "display_name": "Python 3 (ipykernel)",
   "language": "python",
   "name": "python3"
  },
  "language_info": {
   "codemirror_mode": {
    "name": "ipython",
    "version": 3
   },
   "file_extension": ".py",
   "mimetype": "text/x-python",
   "name": "python",
   "nbconvert_exporter": "python",
   "pygments_lexer": "ipython3",
   "version": "3.11.8"
  }
 },
 "nbformat": 4,
 "nbformat_minor": 5
}
