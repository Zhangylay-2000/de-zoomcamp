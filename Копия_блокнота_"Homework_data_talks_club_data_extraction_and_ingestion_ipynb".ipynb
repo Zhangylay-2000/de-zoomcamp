{
  "nbformat": 4,
  "nbformat_minor": 0,
  "metadata": {
    "colab": {
      "provenance": [],
      "include_colab_link": true
    },
    "kernelspec": {
      "name": "python3",
      "display_name": "Python 3"
    },
    "language_info": {
      "name": "python"
    }
  },
  "cells": [
    {
      "cell_type": "markdown",
      "metadata": {
        "id": "view-in-github",
        "colab_type": "text"
      },
      "source": [
        "<a href=\"https://colab.research.google.com/github/Zhangylay-2000/de-zoomcamp/blob/main/%D0%9A%D0%BE%D0%BF%D0%B8%D1%8F_%D0%B1%D0%BB%D0%BE%D0%BA%D0%BD%D0%BE%D1%82%D0%B0_%22Homework_data_talks_club_data_extraction_and_ingestion_ipynb%22.ipynb\" target=\"_parent\"><img src=\"https://colab.research.google.com/assets/colab-badge.svg\" alt=\"Open In Colab\"/></a>"
      ]
    },
    {
      "cell_type": "markdown",
      "source": [
        "# **Homework**: Data talks club data engineering zoomcamp Data loading workshop\n",
        "\n",
        "Hello folks, let's practice what we learned - Loading data with the best practices of data engineering.\n",
        "\n",
        "Here are the exercises we will do\n",
        "\n",
        "\n"
      ],
      "metadata": {
        "id": "mrTFv5nPClXh"
      }
    },
    {
      "cell_type": "markdown",
      "source": [
        "# 1. Use a generator\n",
        "\n",
        "Remember the concept of generator? Let's practice using them to futher our understanding of how they work.\n",
        "\n",
        "Let's define a generator and then run it as practice.\n",
        "\n",
        "**Answer the following questions:**\n",
        "\n",
        "- **Question 1: What is the sum of the outputs of the generator for limit = 5?**\n",
        "- **Question 2: What is the 13th number yielded**\n",
        "\n",
        "I suggest practicing these questions without GPT as the purpose is to further your learning."
      ],
      "metadata": {
        "id": "wLF4iXf-NR7t"
      }
    },
    {
      "cell_type": "code",
      "source": [
        "from re import L\n",
        "def square_root_generator(limit):\n",
        "    n = 1\n",
        "    while n <= limit:\n",
        "        yield n ** 0.5\n",
        "        n += 1\n",
        "\n",
        "# 1\n",
        "limit = 5\n",
        "generator = square_root_generator(limit)\n",
        "sum_of_outputs = sum(generator)\n",
        "print(\"Sum of the outputs where the limit is 5:\", sum_of_outputs)\n",
        "\n",
        "#2\n",
        "limit2=13\n",
        "gen = square_root_generator(limit2)\n",
        "\n",
        "for _ in range(limit2-1):\n",
        "  next(gen)\n",
        "thirteen_n =next(gen)\n",
        "print(\"13th number yielded:\",thirteen_n)\n"
      ],
      "metadata": {
        "colab": {
          "base_uri": "https://localhost:8080/"
        },
        "id": "wLng-bDJN4jf",
        "outputId": "6b3c146a-1941-4e63-e0bc-24dd64a347c0"
      },
      "execution_count": 2,
      "outputs": [
        {
          "output_type": "stream",
          "name": "stdout",
          "text": [
            "Sum of the outputs where the limit is 5: 8.382332347441762\n",
            "13th number yielded: 3.605551275463989\n"
          ]
        }
      ]
    },
    {
      "cell_type": "markdown",
      "source": [],
      "metadata": {
        "id": "xbe3q55zN43j"
      }
    },
    {
      "cell_type": "markdown",
      "source": [
        "# 2. Append a generator to a table with existing data\n",
        "\n",
        "\n",
        "Below you have 2 generators. You will be tasked to load them to duckdb and answer some questions from the data\n",
        "\n",
        "1. Load the first generator and calculate the sum of ages of all people. Make sure to only load it once.\n",
        "2. Append the second generator to the same table as the first.\n",
        "3. **After correctly appending the data, calculate the sum of all ages of people.**\n",
        "\n",
        "\n"
      ],
      "metadata": {
        "id": "vjWhILzGJMpK"
      }
    },
    {
      "cell_type": "code",
      "source": [
        "import duckdb\n",
        "\n",
        "# Define the first generator\n",
        "def people_1():\n",
        "    for i in range(1, 6):\n",
        "        yield (i, f\"Person_{i}\", 25 + i, \"City_A\", None)\n",
        "\n",
        "# Define the second generator\n",
        "def people_2():\n",
        "    for i in range(3, 9):\n",
        "        yield (i, f\"Person_{i}\", 30 + i, \"City_B\", f\"Job_{i}\")\n",
        "\n",
        "# Connect to DuckDB\n",
        "con = duckdb.connect(database=':memory:', read_only=False)\n",
        "\n",
        "# Create a table\n",
        "con.execute(\"\"\"\n",
        "CREATE TABLE People4 (\n",
        "    ID INTEGER,\n",
        "    Name VARCHAR,\n",
        "    Age INTEGER,\n",
        "    City VARCHAR,\n",
        "    Occupation VARCHAR\n",
        ")\n",
        "\"\"\")\n",
        "\n",
        "# Load data from the first generator into the table\n",
        "gen_1 = people_1()\n",
        "for record in gen_1:\n",
        "    con.execute(\"INSERT INTO People4 VALUES (?, ?, ?, ?, ?)\", record)\n",
        "\n",
        "# Append data from the second generator to the table\n",
        "gen_2 = people_2()\n",
        "for record in gen_2:\n",
        "    con.execute(\"INSERT INTO People4 VALUES (?, ?, ?, ?, ?)\", record)\n",
        "\n",
        "# Calculate the sum of ages of all people\n",
        "sum_of_ages = con.execute(\"SELECT SUM(Age) FROM People4\").fetchone()[0]\n",
        "print(\"Sum of ages of all people:\", sum_of_ages)\n"
      ],
      "metadata": {
        "colab": {
          "base_uri": "https://localhost:8080/"
        },
        "id": "ilKf-hxOg13a",
        "outputId": "63787c2e-ffa7-4b70-f668-33337241d40f"
      },
      "execution_count": 10,
      "outputs": [
        {
          "output_type": "stream",
          "name": "stdout",
          "text": [
            "Sum of ages of all people: 353\n"
          ]
        }
      ]
    },
    {
      "cell_type": "markdown",
      "source": [],
      "metadata": {
        "id": "vtdTIm4fvQCN"
      }
    },
    {
      "cell_type": "markdown",
      "source": [
        "# 3. Merge a generator\n",
        "\n",
        "Re-use the generators from Exercise 2.\n",
        "\n",
        "A table's primary key needs to be created from the start, so load your data to a new table with primary key ID.\n",
        "\n",
        "Load your first generator first, and then load the second one with merge. Since they have overlapping IDs, some of the records from the first load should be replaced by the ones from the second load.\n",
        "\n",
        "After loading, you should have a total of 8 records, and ID 3 should have age 33.\n",
        "\n",
        "Question: **Calculate the sum of ages of all the people loaded as described above.**\n"
      ],
      "metadata": {
        "id": "pY4cFAWOSwN1"
      }
    },
    {
      "cell_type": "markdown",
      "source": [
        "# Solution: First make sure that the following modules are installed:"
      ],
      "metadata": {
        "id": "kKB2GTB9oVjr"
      }
    },
    {
      "cell_type": "code",
      "source": [
        "#Install the dependencies\n",
        "%%capture\n",
        "!pip install dlt[duckdb]"
      ],
      "metadata": {
        "id": "xTVvtyqrfVNq"
      },
      "execution_count": 11,
      "outputs": []
    },
    {
      "cell_type": "code",
      "source": [
        "import duckdb\n",
        "\n",
        "# Define the first generator\n",
        "def people_1():\n",
        "    for i in range(1, 6):\n",
        "        yield (i, f\"Person_{i}\", 25 + i, \"City_A\", None)\n",
        "\n",
        "# Define the second generator\n",
        "def people_2():\n",
        "    for i in range(3, 9):\n",
        "        yield (i, f\"Person_{i}\", 30 + i, \"City_B\", f\"Job_{i}\")\n",
        "\n",
        "# Connect to DuckDB\n",
        "con = duckdb.connect(database=':memory:', read_only=False)\n",
        "\n",
        "# Create a table with primary key ID\n",
        "con.execute(\"\"\"\n",
        "CREATE TABLE People6 (\n",
        "    ID INTEGER PRIMARY KEY,\n",
        "    Name VARCHAR,\n",
        "    Age INTEGER,\n",
        "    City VARCHAR,\n",
        "    Occupation VARCHAR\n",
        ")\n",
        "\"\"\")\n",
        "\n",
        "# Load data from the first generator into the table\n",
        "gen_1 = people_1()\n",
        "for record in gen_1:\n",
        "    con.execute(\"INSERT INTO People6 VALUES (?, ?, ?, ?, ?)\", record)\n",
        "\n",
        "# Use MERGE to load data from the second generator, replacing records with overlapping IDs\n",
        "gen_2 = people_2()\n",
        "for record in gen_2:\n",
        "    con.execute(\"INSERT OR REPLACE INTO People6 VALUES (?, ?, ?, ?, ?)\", record)\n",
        "\n",
        "# Calculate the sum of ages of all people\n",
        "sum_of_ages = con.execute(\"SELECT SUM(Age) FROM People6\").fetchone()[0]\n",
        "print(\"Sum of ages of all people:\", sum_of_ages)\n"
      ],
      "metadata": {
        "id": "a2-PRBAkGC2K",
        "colab": {
          "base_uri": "https://localhost:8080/"
        },
        "outputId": "07c976fd-27c1-434f-c7ef-8f7fbe016720"
      },
      "execution_count": 13,
      "outputs": [
        {
          "output_type": "stream",
          "name": "stdout",
          "text": [
            "Sum of ages of all people: 266\n"
          ]
        }
      ]
    },
    {
      "cell_type": "markdown",
      "source": [
        "Questions? difficulties? We are here to help.\n",
        "- DTC data engineering course channel: https://datatalks-club.slack.com/archives/C01FABYF2RG\n",
        "- dlt's DTC cohort channel: https://dlthub-community.slack.com/archives/C06GAEX2VNX"
      ],
      "metadata": {
        "id": "PoTJu4kbGG0z"
      }
    }
  ]
}